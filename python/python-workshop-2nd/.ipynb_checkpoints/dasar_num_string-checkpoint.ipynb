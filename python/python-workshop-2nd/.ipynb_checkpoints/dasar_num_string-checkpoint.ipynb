{
 "cells": [
  {
   "cell_type": "code",
   "execution_count": 1,
   "id": "76e5b3a2-12bb-494f-b435-52b7271f2dba",
   "metadata": {},
   "outputs": [
    {
     "data": {
      "text/plain": [
       "7"
      ]
     },
     "execution_count": 1,
     "metadata": {},
     "output_type": "execute_result"
    }
   ],
   "source": [
    "5 + 2"
   ]
  },
  {
   "cell_type": "code",
   "execution_count": 2,
   "id": "c92af34d-761e-4b4c-be08-ada9f38d8bfa",
   "metadata": {},
   "outputs": [
    {
     "data": {
      "text/plain": [
       "-1"
      ]
     },
     "execution_count": 2,
     "metadata": {},
     "output_type": "execute_result"
    }
   ],
   "source": [
    "5 + 2 * -3"
   ]
  },
  {
   "cell_type": "code",
   "execution_count": 17,
   "id": "81de5ce4-295f-472c-b8aa-0d3112b07914",
   "metadata": {},
   "outputs": [
    {
     "data": {
      "text/plain": [
       "float"
      ]
     },
     "execution_count": 17,
     "metadata": {},
     "output_type": "execute_result"
    }
   ],
   "source": [
    "# Determine the type of a variable\n",
    "ini_float = 6.0\n",
    "type(ini_float)"
   ]
  },
  {
   "cell_type": "code",
   "execution_count": 6,
   "id": "425777e9-83c9-43e4-b6da-11e638ca251c",
   "metadata": {},
   "outputs": [
    {
     "data": {
      "text/plain": [
       "7"
      ]
     },
     "execution_count": 6,
     "metadata": {},
     "output_type": "execute_result"
    }
   ],
   "source": [
    "# Change float into int\n",
    "int(7.999999999)"
   ]
  },
  {
   "cell_type": "code",
   "execution_count": 7,
   "id": "0fd40e73-f4ef-4215-aa4f-0d8221aeee5a",
   "metadata": {},
   "outputs": [
    {
     "data": {
      "text/plain": [
       "6.0"
      ]
     },
     "execution_count": 7,
     "metadata": {},
     "output_type": "execute_result"
    }
   ],
   "source": [
    "# Change int into float\n",
    "float(6)"
   ]
  },
  {
   "cell_type": "code",
   "execution_count": 8,
   "id": "4a97f755-14a4-43b7-8c55-07d160c58df1",
   "metadata": {},
   "outputs": [
    {
     "name": "stdout",
     "output_type": "stream",
     "text": [
      "['False', 'None', 'True', 'and', 'as', 'assert', 'async', 'await', 'break', 'class', 'continue', 'def', 'del', 'elif', 'else', 'except', 'finally', 'for', 'from', 'global', 'if', 'import', 'in', 'is', 'lambda', 'nonlocal', 'not', 'or', 'pass', 'raise', 'return', 'try', 'while', 'with', 'yield']\n"
     ]
    }
   ],
   "source": [
    "import keyword\n",
    "print(keyword.kwlist)"
   ]
  },
  {
   "cell_type": "code",
   "execution_count": 9,
   "id": "1af8334d-9bc8-4897-b133-71cca933e3e1",
   "metadata": {},
   "outputs": [
    {
     "data": {
      "text/plain": [
       "6"
      ]
     },
     "execution_count": 9,
     "metadata": {},
     "output_type": "execute_result"
    }
   ],
   "source": [
    "x = 5\n",
    "y = 2\n",
    "x + x - y ** 2"
   ]
  },
  {
   "cell_type": "code",
   "execution_count": 13,
   "id": "bf0ea9fa-9c2c-405e-8ee8-994e6b45ff01",
   "metadata": {},
   "outputs": [],
   "source": [
    "kalimat = \"\"\"\n",
    "This document will explore why comments are particularly\n",
    "   useful when writing and reading code.\n",
    "\"\"\""
   ]
  },
  {
   "cell_type": "code",
   "execution_count": 15,
   "id": "42d21c3a-4055-43e5-b221-5ccbf7ec4ac3",
   "metadata": {},
   "outputs": [
    {
     "data": {
      "text/plain": [
       "4.0"
      ]
     },
     "execution_count": 15,
     "metadata": {},
     "output_type": "execute_result"
    }
   ],
   "source": [
    "# Finding the area of a triangle\n",
    "base = 2\n",
    "height = 4\n",
    "(base * height) / 2"
   ]
  },
  {
   "cell_type": "code",
   "execution_count": null,
   "id": "9d9e2ead-f4df-44cb-af63-655ed97b9d26",
   "metadata": {},
   "outputs": [],
   "source": []
  }
 ],
 "metadata": {
  "kernelspec": {
   "display_name": "Python 3 (ipykernel)",
   "language": "python",
   "name": "python3"
  },
  "language_info": {
   "codemirror_mode": {
    "name": "ipython",
    "version": 3
   },
   "file_extension": ".py",
   "mimetype": "text/x-python",
   "name": "python",
   "nbconvert_exporter": "python",
   "pygments_lexer": "ipython3",
   "version": "3.11.7"
  }
 },
 "nbformat": 4,
 "nbformat_minor": 5
}
